{
 "cells": [
  {
   "cell_type": "markdown",
   "id": "statutory-stream",
   "metadata": {},
   "source": [
    "# Tâche 5"
   ]
  },
  {
   "cell_type": "code",
   "execution_count": 1,
   "id": "welsh-error",
   "metadata": {},
   "outputs": [],
   "source": [
    "from pymatgen.ext.matproj import MPRester\n",
    "from pymatgen.apps.borg.hive import VaspToComputedEntryDrone\n",
    "from pymatgen.apps.borg.queen import BorgQueen\n",
    "from pymatgen.entries.compatibility import MaterialsProjectCompatibility\n",
    "from pymatgen.analysis.phase_diagram import PhaseDiagram, PDPlotter\n",
    "from jupyter_jsmol.pymatgen import quick_view\n",
    "from pymatgen.symmetry.analyzer import SpacegroupAnalyzer\n",
    "\n"
   ]
  },
  {
   "cell_type": "code",
   "execution_count": 2,
   "id": "driven-crisis",
   "metadata": {},
   "outputs": [],
   "source": [
    "with MPRester(\"GfTnOwQgZddh8BopXvNa\") as m:\n",
    "\n",
    "    # Structure for material id\n",
    "    struct = m.get_structure_by_material_id(\"mp-990448\")"
   ]
  },
  {
   "cell_type": "markdown",
   "id": "covered-mayor",
   "metadata": {},
   "source": [
    "## Schéma de la structure\n"
   ]
  },
  {
   "cell_type": "code",
   "execution_count": 3,
   "id": "invisible-wisdom",
   "metadata": {},
   "outputs": [
    {
     "data": {
      "application/vnd.jupyter.widget-view+json": {
       "model_id": "b53f4ab09c7a4f4a904be9abb7186d23",
       "version_major": 2,
       "version_minor": 0
      },
      "text/plain": [
       "JsmolView(layout=Layout(align_self='stretch', height='400px'))"
      ]
     },
     "metadata": {},
     "output_type": "display_data"
    }
   ],
   "source": [
    "view = quick_view(struct)\n",
    "display(view)"
   ]
  },
  {
   "cell_type": "markdown",
   "id": "collect-projector",
   "metadata": {},
   "source": [
    "## Réseau direct"
   ]
  },
  {
   "cell_type": "markdown",
   "id": "surprising-helicopter",
   "metadata": {},
   "source": [
    "Les vecteurs de base du réseau direct sont les 3 vecteurs suivants :"
   ]
  },
  {
   "cell_type": "code",
   "execution_count": 4,
   "id": "radical-alloy",
   "metadata": {},
   "outputs": [
    {
     "name": "stdout",
     "output_type": "stream",
     "text": [
      "1.234208 -2.137711 0.000000\n",
      "1.234208 2.137711 0.000000\n",
      "0.000000 0.000000 9.999058\n"
     ]
    }
   ],
   "source": [
    "print(struct.lattice)"
   ]
  },
  {
   "cell_type": "markdown",
   "id": "auburn-pierre",
   "metadata": {},
   "source": [
    "Les normes de ces vecteurs (données en Angström) sont simplement la racine carrée de chacune des composantes au carré."
   ]
  },
  {
   "cell_type": "code",
   "execution_count": 5,
   "id": "fleet-presence",
   "metadata": {},
   "outputs": [
    {
     "name": "stdout",
     "output_type": "stream",
     "text": [
      "a = 2.468416031949436 ; b = 2.468416031949436 ; c = 9.999058\n"
     ]
    }
   ],
   "source": [
    "print(\"a = {} ; b = {} ; c = {}\".format(struct.lattice.a,struct.lattice.b,struct.lattice.c))"
   ]
  },
  {
   "cell_type": "markdown",
   "id": "funky-toyota",
   "metadata": {},
   "source": [
    "Comme on peut l'obeserver via la figure ci-dessus, les angles en degrés sont les suivants : "
   ]
  },
  {
   "cell_type": "code",
   "execution_count": 6,
   "id": "satellite-shopper",
   "metadata": {
    "scrolled": true
   },
   "outputs": [
    {
     "name": "stdout",
     "output_type": "stream",
     "text": [
      "alpha = 90.0 ; beta = 90.0 ; gamma = 120.0\n"
     ]
    }
   ],
   "source": [
    "print(\"alpha = {} ; beta = {} ; gamma = {}\".format(struct.lattice.angles[0],struct.lattice.angles[1],round(struct.lattice.angles[2],2)))"
   ]
  },
  {
   "cell_type": "markdown",
   "id": "aboriginal-parker",
   "metadata": {},
   "source": [
    "## Réseau réciproque"
   ]
  },
  {
   "cell_type": "markdown",
   "id": "possible-islam",
   "metadata": {},
   "source": [
    "Les vecteurs de base du réseau réciproque sont les 3 vecteurs suivants :"
   ]
  },
  {
   "cell_type": "code",
   "execution_count": 7,
   "id": "obvious-documentation",
   "metadata": {},
   "outputs": [
    {
     "name": "stdout",
     "output_type": "stream",
     "text": [
      "2.545432 -1.469606 0.000000\n",
      "2.545432 1.469606 0.000000\n",
      "0.000000 0.000000 0.628378\n"
     ]
    }
   ],
   "source": [
    "print(struct.lattice.reciprocal_lattice)"
   ]
  },
  {
   "cell_type": "markdown",
   "id": "adult-rwanda",
   "metadata": {},
   "source": [
    "Les normes de ces vecteurs (données en Angström) sont simplement la racine carrée de chacune des composantes au carré."
   ]
  },
  {
   "cell_type": "code",
   "execution_count": 8,
   "id": "reported-fisher",
   "metadata": {},
   "outputs": [
    {
     "name": "stdout",
     "output_type": "stream",
     "text": [
      "a = 2.9392117964049898 ; b = 2.9392117964049898 ; c = 0.62837772389955\n"
     ]
    }
   ],
   "source": [
    "print(\"a = {} ; b = {} ; c = {}\".format(struct.lattice.reciprocal_lattice.a,struct.lattice.reciprocal_lattice.b,struct.lattice.reciprocal_lattice.c))"
   ]
  },
  {
   "cell_type": "markdown",
   "id": "mexican-basis",
   "metadata": {},
   "source": [
    "Les angles en degrés sont les suivants :"
   ]
  },
  {
   "cell_type": "code",
   "execution_count": 9,
   "id": "inner-lightweight",
   "metadata": {},
   "outputs": [
    {
     "name": "stdout",
     "output_type": "stream",
     "text": [
      "alpha = 90.0 ; beta = 90.0 ; gamma = 60.0\n"
     ]
    }
   ],
   "source": [
    "print(\"alpha = {} ; beta = {} ; gamma = {}\".format(struct.lattice.reciprocal_lattice.angles[0],struct.lattice.reciprocal_lattice.angles[1],round(struct.lattice.reciprocal_lattice.angles[2],2)))"
   ]
  },
  {
   "cell_type": "markdown",
   "id": "metropolitan-watson",
   "metadata": {},
   "source": [
    "## Type de maille"
   ]
  },
  {
   "cell_type": "markdown",
   "id": "realistic-canvas",
   "metadata": {},
   "source": [
    "Le type de maille de ma molécule est le suivant :"
   ]
  },
  {
   "cell_type": "code",
   "execution_count": 10,
   "id": "electric-stable",
   "metadata": {},
   "outputs": [
    {
     "name": "stdout",
     "output_type": "stream",
     "text": [
      "hexagonal\n"
     ]
    }
   ],
   "source": [
    "print(SpacegroupAnalyzer(struct).get_lattice_type()[:])"
   ]
  },
  {
   "cell_type": "markdown",
   "id": "emotional-gauge",
   "metadata": {},
   "source": [
    "## Système cristallin"
   ]
  },
  {
   "cell_type": "markdown",
   "id": "offensive-extent",
   "metadata": {},
   "source": [
    "Le système cristallin de ma molécule est le suivant :"
   ]
  },
  {
   "cell_type": "code",
   "execution_count": 11,
   "id": "anticipated-wagon",
   "metadata": {},
   "outputs": [
    {
     "name": "stdout",
     "output_type": "stream",
     "text": [
      "hexagonal\n"
     ]
    }
   ],
   "source": [
    "print(SpacegroupAnalyzer(struct).get_crystal_system()[:])"
   ]
  },
  {
   "cell_type": "markdown",
   "id": "confirmed-allocation",
   "metadata": {},
   "source": [
    "## Groupe ponctuel"
   ]
  },
  {
   "cell_type": "markdown",
   "id": "cordless-blackjack",
   "metadata": {},
   "source": [
    "Le groupe ponctuel de ma molécule est le suivant :"
   ]
  },
  {
   "cell_type": "code",
   "execution_count": 12,
   "id": "official-trustee",
   "metadata": {},
   "outputs": [
    {
     "name": "stdout",
     "output_type": "stream",
     "text": [
      "6/mmm\n"
     ]
    }
   ],
   "source": [
    "print(SpacegroupAnalyzer(struct).get_point_group_symbol())"
   ]
  }
 ],
 "metadata": {
  "kernelspec": {
   "display_name": "Python 3",
   "language": "python",
   "name": "python3"
  },
  "language_info": {
   "codemirror_mode": {
    "name": "ipython",
    "version": 3
   },
   "file_extension": ".py",
   "mimetype": "text/x-python",
   "name": "python",
   "nbconvert_exporter": "python",
   "pygments_lexer": "ipython3",
   "version": "3.6.8"
  }
 },
 "nbformat": 4,
 "nbformat_minor": 5
}
