{
 "cells": [
  {
   "cell_type": "markdown",
   "id": "first-trigger",
   "metadata": {},
   "source": [
    "# Import"
   ]
  },
  {
   "cell_type": "code",
   "execution_count": 1,
   "id": "differential-aberdeen",
   "metadata": {},
   "outputs": [],
   "source": [
    "from pymatgen.ext.matproj import MPRester\n",
    "from pymatgen.io.cif import CifWriter\n",
    "from pymatgen.symmetry.analyzer import *\n",
    "from pymatgen.io.cif import *\n",
    "from pymatgen.core.operations import *\n",
    "from pymatgen.symmetry.site_symmetries import *\n",
    "import matplotlib.pyplot as plt\n",
    "import matplotlib.image as img\n",
    "\n",
    "from pymatgen import Structure\n",
    "from jupyter_jsmol.pymatgen import quick_view"
   ]
  },
  {
   "cell_type": "code",
   "execution_count": 2,
   "id": "entitled-vinyl",
   "metadata": {},
   "outputs": [],
   "source": [
    "with MPRester(\"GfTnOwQgZddh8BopXvNa\") as m:\n",
    "\n",
    "    # Structure for material id\n",
    "    structure = m.get_structure_by_material_id(\"mp-990448\") #mp-990448\n",
    "    \n",
    "    # Structure with a primitive cell\n",
    "    spa = sga(structure).get_primitive_standard_structure()\n",
    "    \n",
    "    # SpacegroupAnalyzer object for the primitive standard structure\n",
    "    spaceg = sga(spa)\n",
    "    \n",
    "    # Conventional SpacegroupAnalyzer object\n",
    "    saconv = sga(spaceg.get_conventional_standard_structure())\n",
    "    \n",
    "    # Symmetry operations \n",
    "    symmetry_obj = saconv.get_symmetry_operations()"
   ]
  },
  {
   "cell_type": "markdown",
   "id": "adopted-update",
   "metadata": {},
   "source": [
    "# Début des opérations\n",
    "\n",
    "C'est à partir d'ici que nous allons analyser la strucutre du matériau reçu à savoir le Carbone (C : mp-990448). Tout d'abord, nous récupérons toutes les opérations de symétrie possible à partir du fichier CIF. Nous sélectionnons 3 symétries que nous appliquerons à nos atomes. Pour obtenir les coordonées des atomes, nous allons simplement sur Vesta et choisissons 3 atomes."
   ]
  },
  {
   "cell_type": "code",
   "execution_count": 3,
   "id": "national-collapse",
   "metadata": {},
   "outputs": [],
   "source": [
    "sym_1 = symmetry_obj[1] ; sym_2 = symmetry_obj[2] ; sym_3 = symmetry_obj[3] \n",
    "Carbone1 = [0.00000,1.42514,9.99906] ; Carbone2 = [-1.23421,0.71257,9.99906] ; Carbone3 = [1.23421,0.71257,9.99906]\n",
    "Carbone1_op = sym_1.operate(Carbone1) ; Carbone2_op = sym_2.operate(Carbone2) ; Carbone3_op = sym_3.operate(Carbone3)"
   ]
  },
  {
   "cell_type": "markdown",
   "id": "closing-purchase",
   "metadata": {},
   "source": [
    "Il arrive parfois que lors de la visualisation les transformations ne s'affichent pas (pour une raison qui m'est inconnue). Afin de résoudre ce problème, il suffit de faire clic droit et d'aller sur l'onglet symmetry. Après quoi il faut cliquer sur HM : P6/mmm. Une liste de toutes les symétries apparaît et il ne reste plus qu'à sélectionner celle analysée. Pour la première transformation on a la numéro 2, pour la seconde transformation on a la numéro 3 et finalement pour la dernière transformation on a la numéro 4."
   ]
  },
  {
   "cell_type": "markdown",
   "id": "stuck-lodge",
   "metadata": {},
   "source": [
    "## Analyse de la première transformation"
   ]
  },
  {
   "cell_type": "code",
   "execution_count": 4,
   "id": "underlying-hampshire",
   "metadata": {},
   "outputs": [
    {
     "name": "stdout",
     "output_type": "stream",
     "text": [
      "Le triplet de coordonnées (x,y,z) = [0.0, 1.42514, 9.99906] devient (x,y,z) = [ 0.      -1.42514 -9.99906] après application de la transformation :\n",
      "translation = [0. 0. 0.]\n",
      "rotation = \n",
      "[[-1.  0.  0.]\n",
      " [ 0. -1.  0.]\n",
      " [ 0.  0. -1.]]\n",
      " \n",
      "Le système de transformation est le suivant :\n",
      "x' = -x\n",
      "y' = -y\n",
      "z' = -z\n"
     ]
    }
   ],
   "source": [
    "print(\"Le triplet de coordonnées (x,y,z) = {} devient (x,y,z) = {} après application de la transformation :\".format(Carbone1,Carbone1_op)) \n",
    "print(\"translation = {}\".format(sym_1.translation_vector))\n",
    "print(\"rotation = \")\n",
    "print(\"{}\".format(sym_1.rotation_matrix))\n",
    "print(\" \")\n",
    "\n",
    "# A modifier si on change de symétrie\n",
    "print(\"Le système de transformation est le suivant :\")\n",
    "print(\"x' = -x\")\n",
    "print(\"y' = -y\")\n",
    "print(\"z' = -z\")"
   ]
  },
  {
   "cell_type": "code",
   "execution_count": 5,
   "id": "bearing-carpet",
   "metadata": {},
   "outputs": [
    {
     "data": {
      "application/vnd.jupyter.widget-view+json": {
       "model_id": "696838293f9c4ba6b15f5ee006527133",
       "version_major": 2,
       "version_minor": 0
      },
      "text/plain": [
       "JsmolView(layout=Layout(align_self='stretch', height='400px'))"
      ]
     },
     "metadata": {},
     "output_type": "display_data"
    }
   ],
   "source": [
    "# -x -y -z\n",
    "view = quick_view(structure)\n",
    "display(view)\n",
    "view.script(\"draw symop 2 {atomno=2}\") "
   ]
  },
  {
   "cell_type": "markdown",
   "id": "typical-republic",
   "metadata": {},
   "source": [
    "## Analyse de la seconde transformation"
   ]
  },
  {
   "cell_type": "code",
   "execution_count": 6,
   "id": "animated-mortality",
   "metadata": {},
   "outputs": [
    {
     "name": "stdout",
     "output_type": "stream",
     "text": [
      "Le triplet de coordonnées (x,y,z) = [-1.23421, 0.71257, 9.99906] devient (x,y,z) = [-1.94678 -1.23421  9.99906] après application de la transformation :\n",
      "translation = [0. 0. 0.]\n",
      "rotation = \n",
      "[[ 1. -1.  0.]\n",
      " [ 1.  0.  0.]\n",
      " [ 0.  0.  1.]]\n",
      " \n",
      "Le système de transformation est le suivant :\n",
      "x' = x - y\n",
      "y' = x\n",
      "z' = z\n"
     ]
    }
   ],
   "source": [
    "print(\"Le triplet de coordonnées (x,y,z) = {} devient (x,y,z) = {} après application de la transformation :\".format(Carbone2,Carbone2_op)) \n",
    "print(\"translation = {}\".format(sym_2.translation_vector))\n",
    "print(\"rotation = \")\n",
    "print(\"{}\".format(sym_2.rotation_matrix))\n",
    "print(\" \")\n",
    "\n",
    "# A modifier si on change de symétrie\n",
    "print(\"Le système de transformation est le suivant :\")\n",
    "print(\"x' = x - y\")\n",
    "print(\"y' = x\")\n",
    "print(\"z' = z\")"
   ]
  },
  {
   "cell_type": "code",
   "execution_count": 7,
   "id": "medieval-floating",
   "metadata": {},
   "outputs": [
    {
     "data": {
      "application/vnd.jupyter.widget-view+json": {
       "model_id": "e9104e21f1654690ba40ab80f724a944",
       "version_major": 2,
       "version_minor": 0
      },
      "text/plain": [
       "JsmolView(layout=Layout(align_self='stretch', height='400px'))"
      ]
     },
     "metadata": {},
     "output_type": "display_data"
    }
   ],
   "source": [
    "# x-y, x, z\n",
    "view = quick_view(structure)\n",
    "display(view)\n",
    "view.script(\"draw symop 3 {atomno=2}\")"
   ]
  },
  {
   "cell_type": "markdown",
   "id": "acute-lesbian",
   "metadata": {},
   "source": [
    "## Analyse de la troisième transformation"
   ]
  },
  {
   "cell_type": "code",
   "execution_count": 8,
   "id": "sealed-editor",
   "metadata": {},
   "outputs": [
    {
     "name": "stdout",
     "output_type": "stream",
     "text": [
      "Le triplet de coordonnées (x,y,z) = [1.23421, 0.71257, 9.99906] devient (x,y,z) = [-0.52164 -1.23421 -9.99906] après application de la transformation :\n",
      "translation = [0. 0. 0.]\n",
      "rotation = \n",
      "[[-1.  1.  0.]\n",
      " [-1.  0.  0.]\n",
      " [ 0.  0. -1.]]\n",
      " \n",
      "Le système de transformation est le suivant :\n",
      "x' = y - x\n",
      "y' = -x\n",
      "z' = -z\n"
     ]
    }
   ],
   "source": [
    "print(\"Le triplet de coordonnées (x,y,z) = {} devient (x,y,z) = {} après application de la transformation :\".format(Carbone3,Carbone3_op)) \n",
    "print(\"translation = {}\".format(sym_3.translation_vector))\n",
    "print(\"rotation = \")\n",
    "print(\"{}\".format(sym_3.rotation_matrix))\n",
    "print(\" \")\n",
    "\n",
    "# A modifier si on change de symétrie\n",
    "print(\"Le système de transformation est le suivant :\")\n",
    "print(\"x' = y - x\")\n",
    "print(\"y' = -x\")\n",
    "print(\"z' = -z\")"
   ]
  },
  {
   "cell_type": "code",
   "execution_count": 9,
   "id": "solved-business",
   "metadata": {
    "scrolled": true
   },
   "outputs": [
    {
     "data": {
      "application/vnd.jupyter.widget-view+json": {
       "model_id": "c768327e626847e0aafab0608aaa6ed6",
       "version_major": 2,
       "version_minor": 0
      },
      "text/plain": [
       "JsmolView(layout=Layout(align_self='stretch', height='400px'))"
      ]
     },
     "metadata": {},
     "output_type": "display_data"
    }
   ],
   "source": [
    "# -x -y -z\n",
    "view = quick_view(structure)\n",
    "display(view)\n",
    "view.script(\"draw symop 4 {atomno=1}\")"
   ]
  }
 ],
 "metadata": {
  "kernelspec": {
   "display_name": "Python 3",
   "language": "python",
   "name": "python3"
  },
  "language_info": {
   "codemirror_mode": {
    "name": "ipython",
    "version": 3
   },
   "file_extension": ".py",
   "mimetype": "text/x-python",
   "name": "python",
   "nbconvert_exporter": "python",
   "pygments_lexer": "ipython3",
   "version": "3.6.8"
  }
 },
 "nbformat": 4,
 "nbformat_minor": 5
}
